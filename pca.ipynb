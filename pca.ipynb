{
 "cells": [
  {
   "cell_type": "code",
   "execution_count": 1,
   "metadata": {},
   "outputs": [],
   "source": [
    "from sklearn.decomposition import PCA\n",
    "from sklearn.datasets import load_iris\n",
    "import numpy as np"
   ]
  },
  {
   "cell_type": "code",
   "execution_count": 2,
   "metadata": {},
   "outputs": [],
   "source": [
    "iris = load_iris()\n",
    "X = iris.data"
   ]
  },
  {
   "cell_type": "code",
   "execution_count": 4,
   "metadata": {},
   "outputs": [
    {
     "name": "stdout",
     "output_type": "stream",
     "text": [
      "sklearn:\n",
      "PCs:\n",
      " [[ 0.36138659 -0.08452251  0.85667061  0.3582892 ]\n",
      " [ 0.65658877  0.73016143 -0.17337266 -0.07548102]]\n",
      "Explained Variance Ratios: [0.92461872 0.05306648]\n"
     ]
    }
   ],
   "source": [
    "pca = PCA(n_components=2)\n",
    "X2D = pca.fit_transform(X)\n",
    "pcs = pca.components_\n",
    "explained_variance_ratios = pca.explained_variance_ratio_\n",
    "\n",
    "print(\"sklearn:\")\n",
    "print(\"PCs:\\n\", pcs)\n",
    "print(\"Explained Variance Ratios:\", explained_variance_ratios)"
   ]
  },
  {
   "cell_type": "code",
   "execution_count": 7,
   "metadata": {},
   "outputs": [
    {
     "name": "stdout",
     "output_type": "stream",
     "text": [
      "svd:\n",
      "PCs:\n",
      " [[ 0.36138659 -0.65658877]\n",
      " [-0.08452251 -0.73016143]\n",
      " [ 0.85667061  0.17337266]\n",
      " [ 0.3582892   0.07548102]]\n",
      "Explained Variance Ratios: [0.92461872 0.05306648]\n"
     ]
    }
   ],
   "source": [
    "X_centered = X - np.mean(X, axis=0)\n",
    "U, s, Vt = np.linalg.svd(X_centered)\n",
    "c1 = Vt.T[:, 0]\n",
    "c2 = Vt.T[:, 1]\n",
    "W2 = Vt.T[:, :2]\n",
    "X2D = X_centered.dot(W2)\n",
    "\n",
    "explained_variance = (s ** 2) / (X.shape[0] - 1)\n",
    "explained_variance_ratio = explained_variance[:2] / explained_variance.sum()\n",
    "\n",
    "print(\"svd:\")\n",
    "print(\"PCs:\\n\", W2)\n",
    "print(\"Explained Variance Ratios:\", explained_variance_ratio)"
   ]
  },
  {
   "cell_type": "code",
   "execution_count": 8,
   "metadata": {},
   "outputs": [
    {
     "name": "stdout",
     "output_type": "stream",
     "text": [
      "eig:\n",
      "PCs:\n",
      " [[ 0.36138659 -0.65658877]\n",
      " [-0.08452251 -0.73016143]\n",
      " [ 0.85667061  0.17337266]\n",
      " [ 0.3582892   0.07548102]]\n",
      "Explained Variance Ratios: [0.92461872 0.05306648]\n"
     ]
    }
   ],
   "source": [
    "X_cov = X_centered.T @ X_centered\n",
    "eigenvalues, eigenvectors = np.linalg.eig(X_cov)\n",
    "sorted = np.argsort(eigenvalues)[::-1]\n",
    "c1 = eigenvectors[:, sorted[0]]\n",
    "c2 = eigenvectors[:, sorted[1]]\n",
    "W2 = eigenvectors[:, sorted[:2]]\n",
    "X2D_ = X_centered.dot(W2)\n",
    "\n",
    "explained_variance_ratio = eigenvalues[sorted[:2]] / eigenvalues.sum()\n",
    "\n",
    "print(\"eig:\")\n",
    "print(\"PCs:\\n\", W2)\n",
    "print(\"Explained Variance Ratios:\", explained_variance_ratio)"
   ]
  }
 ],
 "metadata": {
  "kernelspec": {
   "display_name": "Python 3",
   "language": "python",
   "name": "python3"
  },
  "language_info": {
   "codemirror_mode": {
    "name": "ipython",
    "version": 3
   },
   "file_extension": ".py",
   "mimetype": "text/x-python",
   "name": "python",
   "nbconvert_exporter": "python",
   "pygments_lexer": "ipython3",
   "version": "3.10.11"
  }
 },
 "nbformat": 4,
 "nbformat_minor": 2
}
